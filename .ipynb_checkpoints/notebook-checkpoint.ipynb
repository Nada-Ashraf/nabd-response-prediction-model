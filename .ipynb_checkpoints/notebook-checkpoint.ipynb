{
 "cells": [
  {
   "cell_type": "markdown",
   "metadata": {},
   "source": [
    "## 1. Inspecting request_responses.csv file\n",
    "<p>Nabd App provide easy, fast and reliable way of communication for those who are in need for urgent advice on how to deal with a medical emergency. Trauma specialists call the first 60 minutes after a serious injury \"the golden hour\". As chances of survival are greatest if the patient gets proper treatment in that hour. This obviously won't replace the need for a doctor, but it helps until medical transport arrives. We are modelling responses to get insights about users' behaviors that will help us improve the app.</p>\n",
    "<p>We generated a dummy dataset to test the model using []. Once we deploy the app we will link the model to the database to perform our analysis.</p>\n",
    "<p>The data is stored in <code>datasets/request_responses.csv</code> and it is structured according to RFMTC marketing model (a variation of RFM). </p>\n",
    "<p> RFM stands for Recency, Frequency and Monetary Value and it is commonly used in marketing for identifying your best customers. In our case, our customers are request responders.\n",
    "RFMTC is a variation of the RFM model. Below is a description of what each column means in our dataset:</p>\n",
    "<ul>\n",
    "<li> R (Recency - time since the last response in hours) </li>\n",
    "<li> F (Frequency - total number of responses)</li>\n",
    "<li> M (Monetary - duration of call in minutes)</li>\n",
    "<li>T (Time - months since the first response)</li>\n",
    "<li> a binary variable representing whether he/she responded to a call in the last week (1 stands for responding; 0 stands for not responding)</li>\n",
    "<ul>"
   ]
  },
  {
   "cell_type": "code",
   "execution_count": 3,
   "metadata": {},
   "outputs": [
    {
     "data": {
      "text/html": [
       "<div>\n",
       "<table border=\"1\" class=\"dataframe\">\n",
       "  <thead>\n",
       "    <tr style=\"text-align: right;\">\n",
       "      <th></th>\n",
       "      <th>Recency (in Hours)</th>\n",
       "      <th>Frequency</th>\n",
       "      <th>Monetary(in Minutes)</th>\n",
       "      <th>Time(in Weeks)</th>\n",
       "      <th>Responded</th>\n",
       "    </tr>\n",
       "  </thead>\n",
       "  <tbody>\n",
       "    <tr>\n",
       "      <th>0</th>\n",
       "      <td>682</td>\n",
       "      <td>2</td>\n",
       "      <td>22</td>\n",
       "      <td>4</td>\n",
       "      <td>1</td>\n",
       "    </tr>\n",
       "    <tr>\n",
       "      <th>1</th>\n",
       "      <td>96</td>\n",
       "      <td>1</td>\n",
       "      <td>45</td>\n",
       "      <td>1</td>\n",
       "      <td>1</td>\n",
       "    </tr>\n",
       "    <tr>\n",
       "      <th>2</th>\n",
       "      <td>23</td>\n",
       "      <td>3</td>\n",
       "      <td>27</td>\n",
       "      <td>7</td>\n",
       "      <td>1</td>\n",
       "    </tr>\n",
       "    <tr>\n",
       "      <th>3</th>\n",
       "      <td>418</td>\n",
       "      <td>3</td>\n",
       "      <td>24</td>\n",
       "      <td>7</td>\n",
       "      <td>0</td>\n",
       "    </tr>\n",
       "    <tr>\n",
       "      <th>4</th>\n",
       "      <td>372</td>\n",
       "      <td>13</td>\n",
       "      <td>5</td>\n",
       "      <td>2</td>\n",
       "      <td>0</td>\n",
       "    </tr>\n",
       "  </tbody>\n",
       "</table>\n",
       "</div>"
      ],
      "text/plain": [
       "   Recency (in Hours)  Frequency  Monetary(in Minutes)  Time(in Weeks)  \\\n",
       "0                 682          2                    22               4   \n",
       "1                  96          1                    45               1   \n",
       "2                  23          3                    27               7   \n",
       "3                 418          3                    24               7   \n",
       "4                 372         13                     5               2   \n",
       "\n",
       "   Responded  \n",
       "0          1  \n",
       "1          1  \n",
       "2          1  \n",
       "3          0  \n",
       "4          0  "
      ]
     },
     "execution_count": 3,
     "metadata": {},
     "output_type": "execute_result"
    }
   ],
   "source": [
    "# Import pandas\n",
    "import pandas as pd\n",
    "\n",
    "# Read in dataset\n",
    "responses = pd.read_csv('datasets/request_responses.csv')\n",
    "\n",
    "# Print out the first rows of our dataset\n",
    "responses.head()"
   ]
  },
  {
   "cell_type": "code",
   "execution_count": 7,
   "metadata": {},
   "outputs": [
    {
     "data": {
      "text/html": [
       "<div>\n",
       "<table border=\"1\" class=\"dataframe\">\n",
       "  <thead>\n",
       "    <tr style=\"text-align: right;\">\n",
       "      <th></th>\n",
       "      <th>Recency (in Hours)</th>\n",
       "      <th>Frequency</th>\n",
       "      <th>Monetary(in Minutes)</th>\n",
       "      <th>Time(in Weeks)</th>\n",
       "      <th>Responded</th>\n",
       "    </tr>\n",
       "  </thead>\n",
       "  <tbody>\n",
       "    <tr>\n",
       "      <th>0</th>\n",
       "      <td>682</td>\n",
       "      <td>2</td>\n",
       "      <td>22</td>\n",
       "      <td>4</td>\n",
       "      <td>1</td>\n",
       "    </tr>\n",
       "    <tr>\n",
       "      <th>1</th>\n",
       "      <td>96</td>\n",
       "      <td>1</td>\n",
       "      <td>45</td>\n",
       "      <td>1</td>\n",
       "      <td>1</td>\n",
       "    </tr>\n",
       "    <tr>\n",
       "      <th>2</th>\n",
       "      <td>23</td>\n",
       "      <td>3</td>\n",
       "      <td>27</td>\n",
       "      <td>7</td>\n",
       "      <td>1</td>\n",
       "    </tr>\n",
       "    <tr>\n",
       "      <th>3</th>\n",
       "      <td>418</td>\n",
       "      <td>3</td>\n",
       "      <td>24</td>\n",
       "      <td>7</td>\n",
       "      <td>0</td>\n",
       "    </tr>\n",
       "    <tr>\n",
       "      <th>4</th>\n",
       "      <td>372</td>\n",
       "      <td>13</td>\n",
       "      <td>5</td>\n",
       "      <td>2</td>\n",
       "      <td>0</td>\n",
       "    </tr>\n",
       "  </tbody>\n",
       "</table>\n",
       "</div>"
      ],
      "text/plain": [
       "   Recency (in Hours)  Frequency  Monetary(in Minutes)  Time(in Weeks)  \\\n",
       "0                 682          2                    22               4   \n",
       "1                  96          1                    45               1   \n",
       "2                  23          3                    27               7   \n",
       "3                 418          3                    24               7   \n",
       "4                 372         13                     5               2   \n",
       "\n",
       "   Responded  \n",
       "0          1  \n",
       "1          1  \n",
       "2          1  \n",
       "3          0  \n",
       "4          0  "
      ]
     },
     "execution_count": 7,
     "metadata": {},
     "output_type": "execute_result"
    }
   ],
   "source": [
    "# Import pandas\n",
    "import pandas as pd\n",
    "\n",
    "# Read in dataset\n",
    "responses = pd.read_csv('datasets/request_responses.csv')\n",
    "\n",
    "# Print out the first rows of our dataset\n",
    "responses.head()"
   ]
  },
  {
   "cell_type": "code",
   "execution_count": 8,
   "metadata": {},
   "outputs": [
    {
     "name": "stdout",
     "output_type": "stream",
     "text": [
      "<class 'pandas.core.frame.DataFrame'>\n",
      "RangeIndex: 800 entries, 0 to 799\n",
      "Data columns (total 5 columns):\n",
      "Recency (in Hours)      800 non-null int64\n",
      "Frequency               800 non-null int64\n",
      "Monetary(in Minutes)    800 non-null int64\n",
      "Time(in Weeks)          800 non-null int64\n",
      "Responded               800 non-null int64\n",
      "dtypes: int64(5)\n",
      "memory usage: 31.3 KB\n"
     ]
    }
   ],
   "source": [
    "# Print a concise summary of responses DataFrame\n",
    "responses.info()"
   ]
  },
  {
   "cell_type": "code",
   "execution_count": null,
   "metadata": {},
   "outputs": [],
   "source": []
  }
 ],
 "metadata": {
  "anaconda-cloud": {},
  "kernelspec": {
   "display_name": "Python [conda env:Anaconda3]",
   "language": "python",
   "name": "conda-env-Anaconda3-py"
  },
  "language_info": {
   "codemirror_mode": {
    "name": "ipython",
    "version": 3
   },
   "file_extension": ".py",
   "mimetype": "text/x-python",
   "name": "python",
   "nbconvert_exporter": "python",
   "pygments_lexer": "ipython3",
   "version": "3.5.6"
  }
 },
 "nbformat": 4,
 "nbformat_minor": 2
}
